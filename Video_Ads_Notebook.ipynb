{
 "cells": [
  {
   "cell_type": "markdown",
   "id": "655d3bc4",
   "metadata": {},
   "source": [
    "# Ad Tech Project"
   ]
  },
  {
   "cell_type": "markdown",
   "id": "f58a45e6",
   "metadata": {},
   "source": [
    "## Overview: \n",
    "\n",
    "The goal of the project is to demonstrate my technical abilities with both Python and Looker to complete a sample analysis for a hypothetical advertising tech company. Data was provided via Kaggle and downloaded to my laptop. Values were calculated for the average viewing times of video ads as well as the top 10 most visited websites in the US. Furthermore, some hypotheses about how device type impacts viewing times were provided. Finally, I assess the data quality and integrity of the provided dataset. This report should be read in tandem with the Looker Report, which is provided in a seperate file and which includes visualizations to help illustrate my findings. "
   ]
  },
  {
   "cell_type": "markdown",
   "id": "808f97cb",
   "metadata": {},
   "source": [
    "### 1: Average Viewing Times: \n",
    "\n",
    "I found the average watch time of video advertisements for users in the United States, France and the United Kingdom. The average watch times are 7.081 seconds, 7.355 seconds and 7.23 seconds respectively. These values were found by loading the data into a dataframe in Pandas, filtering for each country, then using the 'mean' function in Numpy to find the average of column 'seconds_played,' as it is the 'the observed time the video has been watched,' per the Kaggle description. Code is provided below. Moreover, the first graph on slide 1 of my Looker report confirms my findings from Python."
   ]
  },
  {
   "cell_type": "code",
   "execution_count": 2,
   "id": "4ce6b360",
   "metadata": {},
   "outputs": [],
   "source": [
    "#Import relevant packages\n",
    "import pandas as pd #version 2.1.4\n",
    "import numpy as np #version 1.23.5\n",
    "import matplotlib.pyplot as plt #3.8.0\n",
    "\n",
    "#import Kagglehub and download files\n",
    "\n",
    "#import kagglehub\n",
    "\n",
    "#path = kagglehub.dataset_download(\"karnikakapoor/video-ads-engagement-dataset\")\n",
    "\n",
    "#print(\"Path to dataset files:\", path)"
   ]
  },
  {
   "cell_type": "code",
   "execution_count": 2,
   "id": "8b7ef12e",
   "metadata": {},
   "outputs": [],
   "source": [
    "#read the data using pandas\n",
    "df = pd.read_csv(\"ad_df.csv\")"
   ]
  },
  {
   "cell_type": "code",
   "execution_count": 3,
   "id": "03e10c2a",
   "metadata": {},
   "outputs": [
    {
     "name": "stdout",
     "output_type": "stream",
     "text": [
      "Average watch time in USA: 7.081 Seconds\n"
     ]
    }
   ],
   "source": [
    "#Filter the referer_deep_three column to get just the website, explained more in Question 2\n",
    "df['Website'] = df['referer_deep_three'].str.split('/').str[1]\n",
    "\n",
    "#Filter the df on only the users who watched in the US\n",
    "USA_Data = df[df['ua_country'] == \"us\"]\n",
    "\n",
    "#Calculate average and print value\n",
    "Average_Viewing_Time_USA = USA_Data['seconds_played'].mean()\n",
    "print(\"Average watch time in USA:\", round(Average_Viewing_Time_USA, 3), \"Seconds\")"
   ]
  },
  {
   "cell_type": "code",
   "execution_count": 4,
   "id": "49adaebc",
   "metadata": {},
   "outputs": [
    {
     "name": "stdout",
     "output_type": "stream",
     "text": [
      "Average watch time in France: 7.355 Seconds\n"
     ]
    }
   ],
   "source": [
    "#Filter the df on only the users who watched in France\n",
    "France_Data = df[df['ua_country'] == \"fr\"]\n",
    "\n",
    "#Calculate average and print value\n",
    "Average_Viewing_Time_France = France_Data['seconds_played'].mean()\n",
    "print(\"Average watch time in France:\", round(Average_Viewing_Time_France, 3), \"Seconds\")"
   ]
  },
  {
   "cell_type": "code",
   "execution_count": 5,
   "id": "f6ad0019",
   "metadata": {},
   "outputs": [
    {
     "name": "stdout",
     "output_type": "stream",
     "text": [
      "Average watch time in UK: 7.23 Seconds\n"
     ]
    }
   ],
   "source": [
    "#Filter the df on only the users who watched in the UK\n",
    "UK_Data = df[df['ua_country'] == \"uk\"]\n",
    "\n",
    "#Calculate average and print value\n",
    "Average_Viewing_Time_UK = UK_Data['seconds_played'].mean()\n",
    "print(\"Average watch time in UK:\", round(Average_Viewing_Time_UK, 3), \"Seconds\")"
   ]
  },
  {
   "cell_type": "markdown",
   "id": "d4ad4507",
   "metadata": {},
   "source": [
    "### 2: Most Visited Websites \n",
    "\n",
    "I then found the ten most accessed websites by users in the US. I did so using the 'str.split' function in the third code chunk, which took the values from 'referer_deep_three' and isolated only the website name. I did this because I noticed that the ID values in 'website_id' would all correlate to the same website, even if 'referer_deep_three' may be different. For example, website_id 19190 always referred to 'com/washingtonpost/', but varied what the third part of the URL would be. To simplify this, I kept the website name that corresponded to each website_id and counted them. The websites and code used are provided below. The second graph on page 1 of my Looker report also contains a bar graph which accentuates how both the Washington Post and ESPN received far more visits than any other site, even the others in the top ten. Furthermore, the second column chart on page 2 in my Looker report examined the average viewing time of advertisements for the top five most visited websites (washingtonpost, espn, bet, lifedaily and slate). Interestingly, even though Life Daily qualified as a top five most visited website, its average viewing times were roughly half the viewing times of the Washington Post, the most visited website. This shows that even though many websites can have a lot of traffic, their advertising impact can vary greatly. "
   ]
  },
  {
   "cell_type": "code",
   "execution_count": 6,
   "id": "f551608c",
   "metadata": {},
   "outputs": [
    {
     "name": "stdout",
     "output_type": "stream",
     "text": [
      "The top ten most accessed websites in the USA:\n",
      "washingtonpost: 94464\n",
      "espn: 79517\n",
      "bet: 21178\n",
      "lifedaily: 18145\n",
      "slate: 17793\n",
      "thedailybeast: 17258\n",
      "time: 17133\n",
      "cosmopolitan: 15461\n",
      "iflscience: 15393\n",
      "people: 14110\n"
     ]
    }
   ],
   "source": [
    "#Counts the occurence of each website, stopping at only the top ten and providing the times accessed\n",
    "Sites = USA_Data['Website'].value_counts().head(10)\n",
    "\n",
    "print(\"The top ten most accessed websites in the USA:\")\n",
    "for website, count in Sites.items():\n",
    "    print(f\"{website}: {count}\")"
   ]
  },
  {
   "cell_type": "markdown",
   "id": "7d2fd942",
   "metadata": {},
   "source": [
    "### 3: Viewing Time Breakdown\n",
    "\n",
    "The device type used to watch an advertisement can have a big impact on how long a user watches a video. Below I calculated the average viewing time broken down by device type. I also found the longest advertisement people were willing to watch. While people on average watched ads for the least amount of time on their phones, the absolute longest someone watched an advertisement on television was signifcantly less than a computer, phone or tablet. \n",
    "\n",
    "My general hypothesis is that usually the smaller the screen, the stronger the instinct to just scroll to the next thing. But on a TV, I would guess people are more likely to watch something for longer without the urge to scroll, even on a smart TV. As for the gap in the maximum watch times, it is possible that targeted ad spots on smaller screens like phones, tablets and personal computers are more effective than those on the larger screens. However, I think it is more likely there was an issue in how the data was collected or recorded, which I expand on in Question 4. \n",
    "\n",
    "On the second page of my Looker report, I provided a column chart which breaks down not only the average viewing time by device, but also by the countries of interest in this report (US, France and UK). An interesting finding from this graph is that connected TV advertisements in the US averaged over 20 seconds of viewing time from the audience."
   ]
  },
  {
   "cell_type": "code",
   "execution_count": 7,
   "id": "90cf2fa5",
   "metadata": {},
   "outputs": [
    {
     "name": "stderr",
     "output_type": "stream",
     "text": [
      "/var/folders/67/gpz3f5nd55l_q5hmg7yqg9ww0000gn/T/ipykernel_28305/1146520938.py:2: FutureWarning: Series.fillna with 'method' is deprecated and will raise in a future version. Use obj.ffill() or obj.bfill() instead.\n",
      "  df['ua_device'] = df['ua_device'].fillna(method='ffill')\n"
     ]
    },
    {
     "name": "stdout",
     "output_type": "stream",
     "text": [
      "Average watch time in seconds by device:\n",
      "ConnectedTv: 9.61 seconds\n",
      "PersonalComputer: 8.02 seconds\n",
      "Phone: 6.19 seconds\n",
      "Tablet: 7.73 seconds\n"
     ]
    }
   ],
   "source": [
    "#Fill the empty device column entries with the values from the previous row\n",
    "df['ua_device'] = df['ua_device'].fillna(method='ffill')\n",
    "\n",
    "#Find average length a person watched an ad broken down by device \n",
    "Devices_Average = df.groupby('ua_device')['seconds_played'].mean()\n",
    "\n",
    "#Print results\n",
    "print(\"Average watch time in seconds by device:\")\n",
    "for device, avg_time in Devices_Average.items():\n",
    "    print(f\"{device}: {avg_time:.2f} seconds\")"
   ]
  },
  {
   "cell_type": "code",
   "execution_count": 8,
   "id": "84740071",
   "metadata": {},
   "outputs": [
    {
     "name": "stdout",
     "output_type": "stream",
     "text": [
      "Max watch time in seconds by device:\n",
      "ConnectedTv: 52.00 seconds\n",
      "PersonalComputer: 135.00 seconds\n",
      "Phone: 135.00 seconds\n",
      "Tablet: 135.00 seconds\n"
     ]
    }
   ],
   "source": [
    "#Find max length a person watched an ad broken down by device \n",
    "Devices_Max = df.groupby('ua_device')['seconds_played'].max()\n",
    "\n",
    "#Print results\n",
    "print(\"Max watch time in seconds by device:\")\n",
    "for device, max_time in Devices_Max.items():\n",
    "    print(f\"{device}: {max_time:.2f} seconds\")"
   ]
  },
  {
   "cell_type": "code",
   "execution_count": 9,
   "id": "55414c77",
   "metadata": {},
   "outputs": [
    {
     "data": {
      "image/png": "[encoded data removed]",
      "text/plain": [
       "<Figure size 1000x600 with 1 Axes>"
      ]
     },
     "metadata": {},
     "output_type": "display_data"
    }
   ],
   "source": [
    "#Count the occurence of each length of ad\n",
    "Seconds_Played_Dist = df['seconds_played'].value_counts()\n",
    "\n",
    "#plot the distribution\n",
    "plt.figure(figsize=(10, 6))\n",
    "plt.hist(df['seconds_played'].dropna(), bins=20, color='skyblue', edgecolor='black')\n",
    "\n",
    "\n",
    "plt.title('Histogram of Seconds Played', fontsize=16)\n",
    "plt.xlabel('Seconds Played', fontsize=14)\n",
    "plt.ylabel('Frequency', fontsize=14)\n",
    "plt.grid(axis='y', linestyle='--', alpha=0.7)\n",
    "\n",
    "\n",
    "plt.show()"
   ]
  },
  {
   "cell_type": "markdown",
   "id": "bdfb1cab",
   "metadata": {},
   "source": [
    "### 4: Review of Analysis and Shortcomings\n",
    "\n",
    "Overall, the dataset provided from Kaggle was fairly well structured and did not require too much manipulation. However, there were several things I needed to do to ensure the integrity of the data. First, I had to explicitly parse the website name from the 'referer deep three' column. This ensured someone who went to the NBA section of ESPN was not marked as going to a different website as someone who went to the NFL section of ESPN. \n",
    "\n",
    "A second issue I encountered was that over 99% of the zone language values were French. This is suprsing, considering the most common country in the dataset is the US, which has a primary langauge of English. This leads me to believe there was an error in the data collection. While I did not personally do anything with languages, it is important to know about the dataset as a whole. \n",
    "\n",
    "Next, as discussed in section 3, the maximum time watching an advertisement seems dubious. I plotted the histogram above to observe the distribution, and while 135 was certainly recorded for phones, personal computers and tablets, I think it's highly likely there was an error in measuring the watch times over 100 seconds given how infrequent they are.\n",
    "\n",
    "Another key data integrity issue was that the URL column, referred to as 'referer_deep_three', had quite a few missing/NA values. While this did not effect my answers about the most trafficked websites, it is important to note in the US there were over 20,000 empty/NA values, meaning there could have been an error in the collection process. \n",
    "\n",
    "The final data integrity issue I noticed is that the devices column had 198 missing values. Out of 3 million rows, this is likely unimportant. However, I still took it upon myself to fill the missing value with the device that was in the row preceding it. "
   ]
  },
  {
   "cell_type": "code",
   "execution_count": 18,
   "id": "2df04cbb",
   "metadata": {},
   "outputs": [],
   "source": [
    "#Filtering the data to create visualizations in Looker\n",
    "\n",
    "ad_df_filtered = df[['creative_duration', 'placement_language', 'ua_device', 'ua_country', \n",
    "                     'seconds_played', 'Website']]\n",
    "\n",
    "#write data to CSV\n",
    "ad_df_filtered.to_csv('ad_df_filtered.csv', index=False)"
   ]
  }
 ],
 "metadata": {
  "kernelspec": {
   "display_name": "Python 3 (ipykernel)",
   "language": "python",
   "name": "python3"
  },
  "language_info": {
   "codemirror_mode": {
    "name": "ipython",
    "version": 3
   },
   "file_extension": ".py",
   "mimetype": "text/x-python",
   "name": "python",
   "nbconvert_exporter": "python",
   "pygments_lexer": "ipython3",
   "version": "3.11.5"
  }
 },
 "nbformat": 4,
 "nbformat_minor": 5
}
